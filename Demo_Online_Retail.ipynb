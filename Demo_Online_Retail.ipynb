{
 "cells": [
  {
   "cell_type": "markdown",
   "id": "3bfcc899-0f3f-4128-ad55-76f9dbca5a28",
   "metadata": {},
   "source": [
    "# Import thư viện Pandas"
   ]
  },
  {
   "cell_type": "code",
   "execution_count": 1,
   "id": "5687f332-ea75-4f45-8699-494317582381",
   "metadata": {},
   "outputs": [],
   "source": [
    "import pandas as pd"
   ]
  },
  {
   "cell_type": "markdown",
   "id": "d01e4e48-1283-4f5c-8d2b-4a3e3e6e3dba",
   "metadata": {},
   "source": [
    "# Đọc và hiển thị 5 dòng đầu tiên"
   ]
  },
  {
   "cell_type": "code",
   "execution_count": 3,
   "id": "5a125b1f-4363-4f0b-98df-e36a2e59a25c",
   "metadata": {},
   "outputs": [
    {
     "data": {
      "text/html": [
       "<div>\n",
       "<style scoped>\n",
       "    .dataframe tbody tr th:only-of-type {\n",
       "        vertical-align: middle;\n",
       "    }\n",
       "\n",
       "    .dataframe tbody tr th {\n",
       "        vertical-align: top;\n",
       "    }\n",
       "\n",
       "    .dataframe thead th {\n",
       "        text-align: right;\n",
       "    }\n",
       "</style>\n",
       "<table border=\"1\" class=\"dataframe\">\n",
       "  <thead>\n",
       "    <tr style=\"text-align: right;\">\n",
       "      <th></th>\n",
       "      <th>InvoiceNo</th>\n",
       "      <th>StockCode</th>\n",
       "      <th>Description</th>\n",
       "      <th>Quantity</th>\n",
       "      <th>InvoiceDate</th>\n",
       "      <th>UnitPrice</th>\n",
       "      <th>CustomerID</th>\n",
       "      <th>Country</th>\n",
       "    </tr>\n",
       "  </thead>\n",
       "  <tbody>\n",
       "    <tr>\n",
       "      <th>0</th>\n",
       "      <td>536365</td>\n",
       "      <td>85123A</td>\n",
       "      <td>WHITE HANGING HEART T-LIGHT HOLDER</td>\n",
       "      <td>6</td>\n",
       "      <td>12/1/2010 8:26</td>\n",
       "      <td>2.55</td>\n",
       "      <td>17850.0</td>\n",
       "      <td>United Kingdom</td>\n",
       "    </tr>\n",
       "    <tr>\n",
       "      <th>1</th>\n",
       "      <td>536365</td>\n",
       "      <td>71053</td>\n",
       "      <td>WHITE METAL LANTERN</td>\n",
       "      <td>6</td>\n",
       "      <td>12/1/2010 8:26</td>\n",
       "      <td>3.39</td>\n",
       "      <td>17850.0</td>\n",
       "      <td>United Kingdom</td>\n",
       "    </tr>\n",
       "    <tr>\n",
       "      <th>2</th>\n",
       "      <td>536365</td>\n",
       "      <td>84406B</td>\n",
       "      <td>CREAM CUPID HEARTS COAT HANGER</td>\n",
       "      <td>8</td>\n",
       "      <td>12/1/2010 8:26</td>\n",
       "      <td>2.75</td>\n",
       "      <td>17850.0</td>\n",
       "      <td>United Kingdom</td>\n",
       "    </tr>\n",
       "    <tr>\n",
       "      <th>3</th>\n",
       "      <td>536365</td>\n",
       "      <td>84029G</td>\n",
       "      <td>KNITTED UNION FLAG HOT WATER BOTTLE</td>\n",
       "      <td>6</td>\n",
       "      <td>12/1/2010 8:26</td>\n",
       "      <td>3.39</td>\n",
       "      <td>17850.0</td>\n",
       "      <td>United Kingdom</td>\n",
       "    </tr>\n",
       "    <tr>\n",
       "      <th>4</th>\n",
       "      <td>536365</td>\n",
       "      <td>84029E</td>\n",
       "      <td>RED WOOLLY HOTTIE WHITE HEART.</td>\n",
       "      <td>6</td>\n",
       "      <td>12/1/2010 8:26</td>\n",
       "      <td>3.39</td>\n",
       "      <td>17850.0</td>\n",
       "      <td>United Kingdom</td>\n",
       "    </tr>\n",
       "  </tbody>\n",
       "</table>\n",
       "</div>"
      ],
      "text/plain": [
       "  InvoiceNo StockCode                          Description  Quantity  \\\n",
       "0    536365    85123A   WHITE HANGING HEART T-LIGHT HOLDER         6   \n",
       "1    536365     71053                  WHITE METAL LANTERN         6   \n",
       "2    536365    84406B       CREAM CUPID HEARTS COAT HANGER         8   \n",
       "3    536365    84029G  KNITTED UNION FLAG HOT WATER BOTTLE         6   \n",
       "4    536365    84029E       RED WOOLLY HOTTIE WHITE HEART.         6   \n",
       "\n",
       "      InvoiceDate  UnitPrice  CustomerID         Country  \n",
       "0  12/1/2010 8:26       2.55     17850.0  United Kingdom  \n",
       "1  12/1/2010 8:26       3.39     17850.0  United Kingdom  \n",
       "2  12/1/2010 8:26       2.75     17850.0  United Kingdom  \n",
       "3  12/1/2010 8:26       3.39     17850.0  United Kingdom  \n",
       "4  12/1/2010 8:26       3.39     17850.0  United Kingdom  "
      ]
     },
     "execution_count": 3,
     "metadata": {},
     "output_type": "execute_result"
    }
   ],
   "source": [
    "df = pd.read_csv(r\"C:\\Users\\PHAM THE ANH\\Data Analysis_Code Gym\\01. Tong quan\\Thuc_hanh_2\\OnlineRetail.csv\", encoding = \"ISO-8859-1\")\n",
    "df.head(5)"
   ]
  },
  {
   "cell_type": "markdown",
   "id": "f4b3df34-0199-4d4d-8129-0fc2584c513b",
   "metadata": {},
   "source": [
    "# Số lượng dòng và cột của bộ dữ liệu"
   ]
  },
  {
   "cell_type": "code",
   "execution_count": 4,
   "id": "bbd46bc8-3741-4149-bec0-81a9b81fc947",
   "metadata": {},
   "outputs": [
    {
     "name": "stdout",
     "output_type": "stream",
     "text": [
      "<class 'pandas.core.frame.DataFrame'>\n",
      "RangeIndex: 541909 entries, 0 to 541908\n",
      "Data columns (total 8 columns):\n",
      " #   Column       Non-Null Count   Dtype  \n",
      "---  ------       --------------   -----  \n",
      " 0   InvoiceNo    541909 non-null  object \n",
      " 1   StockCode    541909 non-null  object \n",
      " 2   Description  540455 non-null  object \n",
      " 3   Quantity     541909 non-null  int64  \n",
      " 4   InvoiceDate  541909 non-null  object \n",
      " 5   UnitPrice    541909 non-null  float64\n",
      " 6   CustomerID   406829 non-null  float64\n",
      " 7   Country      541909 non-null  object \n",
      "dtypes: float64(2), int64(1), object(5)\n",
      "memory usage: 33.1+ MB\n"
     ]
    }
   ],
   "source": [
    "df.info()"
   ]
  },
  {
   "cell_type": "markdown",
   "id": "5b391616-1e33-4517-9f7c-089fd41a2d14",
   "metadata": {},
   "source": [
    "# Công ty bán hàng tại bao nhiêu quốc gia"
   ]
  },
  {
   "cell_type": "code",
   "execution_count": 5,
   "id": "46a89741-ed13-496c-b789-e825e4d69ed2",
   "metadata": {},
   "outputs": [
    {
     "name": "stdout",
     "output_type": "stream",
     "text": [
      "Số lượng các quốc gia: 38\n"
     ]
    }
   ],
   "source": [
    "# lấy ra tên các quốc gia\n",
    "countries = df.Country.unique()\n",
    "print(f\"Số lượng các quốc gia: {countries.size}\")"
   ]
  },
  {
   "cell_type": "markdown",
   "id": "c600bca9-ce9d-401b-80d8-e52dbcf3b6d0",
   "metadata": {},
   "source": [
    "# Số lượng đơn hàng bán ra và tổng doanh thu"
   ]
  },
  {
   "cell_type": "code",
   "execution_count": 8,
   "id": "e74b77cb-3ae3-477a-9bb3-eb3da4bffb56",
   "metadata": {},
   "outputs": [
    {
     "name": "stdout",
     "output_type": "stream",
     "text": [
      "Số lượng hoá đơn bán ra: 1\n",
      "Tổng doanh thu: 9747747.93\n"
     ]
    }
   ],
   "source": [
    "# Tạo ra cột tính tiền của các mặt hàng\n",
    "df[\"Total\"] = df[\"Quantity\"] * df[\"UnitPrice\"]\n",
    "\n",
    "# Giá trị của mỗi đơn hàng\n",
    "total_invoices = df[\"Total\"].sum()\n",
    "print(f\"Số lượng hoá đơn bán ra: {total_invoices.size}\")\n",
    "print(f\"Tổng doanh thu: {total_invoices.sum():.2f}\")"
   ]
  },
  {
   "cell_type": "markdown",
   "id": "bab6f657-eb26-4af6-8a7c-d44b14dc9800",
   "metadata": {
    "tags": []
   },
   "source": [
    "# Top 10 mặt hàng có số lượng bán ra lớn nhất"
   ]
  },
  {
   "cell_type": "code",
   "execution_count": 21,
   "id": "cba83acf-0897-4d4d-961d-23a2937cfd07",
   "metadata": {},
   "outputs": [
    {
     "data": {
      "text/plain": [
       "StockCode  Description                       \n",
       "84077      WORLD WAR 2 GLIDERS ASSTD DESIGNS     53847\n",
       "85099B     JUMBO BAG RED RETROSPOT               47363\n",
       "84879      ASSORTED COLOUR BIRD ORNAMENT         36381\n",
       "22197      POPCORN HOLDER                        36334\n",
       "21212      PACK OF 72 RETROSPOT CAKE CASES       36039\n",
       "85123A     WHITE HANGING HEART T-LIGHT HOLDER    35025\n",
       "23084      RABBIT NIGHT LIGHT                    30680\n",
       "22492      MINI PAINT SET VINTAGE                26437\n",
       "22616      PACK OF 12 LONDON TISSUES             26315\n",
       "21977      PACK OF 60 PINK PAISLEY CAKE CASES    24753\n",
       "Name: Quantity, dtype: int64"
      ]
     },
     "execution_count": 21,
     "metadata": {},
     "output_type": "execute_result"
    }
   ],
   "source": [
    "# gom hai thuộc tính bao gồm \"StockCode\" và \"Description\" thành một nhóm\n",
    "# và sắp xếp từ lớn đến bé theo giá trị \"Quantity\"\n",
    "quantity_product = df.groupby([\"StockCode\",\"Description\"])[\"Quantity\"].sum().sort_values(ascending = False)\n",
    "quantity_product.head(10)"
   ]
  },
  {
   "cell_type": "code",
   "execution_count": null,
   "id": "a3e5fa48-e2b5-49cb-a232-915648c7ff6c",
   "metadata": {},
   "outputs": [],
   "source": []
  },
  {
   "cell_type": "markdown",
   "id": "83c1ec96-bf73-4ca3-b41e-a7c4bd2c58d0",
   "metadata": {},
   "source": [
    "# Top 10 mặt hàng có doanh thu lớn nhất"
   ]
  },
  {
   "cell_type": "code",
   "execution_count": 22,
   "id": "77eded2f-0680-42d2-bef1-a3547f8e4239",
   "metadata": {},
   "outputs": [
    {
     "data": {
      "text/plain": [
       "StockCode  Description                       \n",
       "DOT        DOTCOM POSTAGE                        206245.48\n",
       "22423      REGENCY CAKESTAND 3 TIER              164762.19\n",
       "47566      PARTY BUNTING                          98302.98\n",
       "85123A     WHITE HANGING HEART T-LIGHT HOLDER     97715.99\n",
       "85099B     JUMBO BAG RED RETROSPOT                92356.03\n",
       "23084      RABBIT NIGHT LIGHT                     66756.59\n",
       "POST       POSTAGE                                66230.64\n",
       "22086      PAPER CHAIN KIT 50'S CHRISTMAS         63791.94\n",
       "84879      ASSORTED COLOUR BIRD ORNAMENT          58959.73\n",
       "79321      CHILLI LIGHTS                          53768.06\n",
       "Name: Total, dtype: float64"
      ]
     },
     "execution_count": 22,
     "metadata": {},
     "output_type": "execute_result"
    }
   ],
   "source": [
    "# gom hai thuộc tính bao gồm \"StockCode\" và \"Description\" thành một nhóm\n",
    "# và sắp xếp từ lớn đến bé theo giá trị \"Quantity\"\n",
    "quantity_product = df.groupby([\"StockCode\",\"Description\"])[\"Total\"].sum().sort_values(ascending = False)\n",
    "quantity_product.head(10)"
   ]
  },
  {
   "cell_type": "code",
   "execution_count": null,
   "id": "3562cf81-e845-4bce-b43f-493761ac5c3c",
   "metadata": {},
   "outputs": [],
   "source": []
  }
 ],
 "metadata": {
  "kernelspec": {
   "display_name": "Python 3 (ipykernel)",
   "language": "python",
   "name": "python3"
  },
  "language_info": {
   "codemirror_mode": {
    "name": "ipython",
    "version": 3
   },
   "file_extension": ".py",
   "mimetype": "text/x-python",
   "name": "python",
   "nbconvert_exporter": "python",
   "pygments_lexer": "ipython3",
   "version": "3.10.1"
  }
 },
 "nbformat": 4,
 "nbformat_minor": 5
}
